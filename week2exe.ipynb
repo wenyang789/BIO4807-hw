{
 "cells": [
  {
   "cell_type": "markdown",
   "id": "7ae39adb",
   "metadata": {},
   "source": [
    "### Implement MotifEnumeration"
   ]
  },
  {
   "cell_type": "markdown",
   "id": "5b8c82fe",
   "metadata": {},
   "source": [
    "https://rosalind.info/problems/ba2a/"
   ]
  },
  {
   "cell_type": "code",
   "execution_count": 13,
   "id": "1324b01e",
   "metadata": {},
   "outputs": [],
   "source": [
    "from itertools import product\n",
    "\n",
    "def HammingDistance(p, q):\n",
    "        '''\n",
    "        Computes the Hamming distance between two strings.\n",
    "        Args:\n",
    "            p: A string.\n",
    "            q: A string of the same length as p.\n",
    "        Returns:\n",
    "            The Hamming distance between p and q.\n",
    "        '''\n",
    "        return sum(pc != qc for pc, qc in zip(p, q))\n",
    "\n",
    "def Neighbors(pattern, d):\n",
    "        if d == 0:\n",
    "            return {pattern}\n",
    "        if len(pattern) == 0:\n",
    "            return {\"\"}\n",
    "        neighborhood = set()\n",
    "        suffix_neighbors = Neighbors(pattern[1:], d)\n",
    "        for text in suffix_neighbors:\n",
    "            if HammingDistance(pattern[1:], text) < d:\n",
    "                for nucleotide in \"ACGT\":\n",
    "                    neighborhood.add(nucleotide + text)\n",
    "            else:\n",
    "                neighborhood.add(pattern[0] + text)\n",
    "        return neighborhood\n",
    "\n",
    "def MotifEnumeration(Dna, k, d):\n",
    "    '''Finds all (k, d)-motifs in a collection of DNA strings.\n",
    "    A (k, d)-motif is a k-mer that appears in each string from Dna with at most d mismatches.\n",
    "    Args:\n",
    "        Dna: A list of DNA strings.\n",
    "        k: The length of the k-mers to find.\n",
    "        d: The maximum number of mismatches allowed.\n",
    "    Returns:\n",
    "        A set of all (k, d)-motifs in Dna.\n",
    "    '''\n",
    "    patterns = set()\n",
    "    for seq in Dna:\n",
    "        for i in range(len(seq) - k + 1):\n",
    "            pattern = seq[i:i + k]\n",
    "            neighborhood = Neighbors(pattern, d)\n",
    "            patterns.update(neighborhood)\n",
    "\n",
    "    result = set()\n",
    "    for pattern in patterns:\n",
    "        if all(any(HammingDistance(pattern, seq[i:i + k]) <= d for i in range(len(seq) - k + 1)) for seq in Dna):\n",
    "            result.add(pattern)\n",
    "\n",
    "    return result"
   ]
  },
  {
   "cell_type": "code",
   "execution_count": 14,
   "id": "843db973",
   "metadata": {},
   "outputs": [
    {
     "name": "stdout",
     "output_type": "stream",
     "text": [
      "ATCCG ACCCG AACCG AGCCG\n"
     ]
    }
   ],
   "source": [
    "file_path = 'data/rosalind_ba2a.txt'\n",
    "with open(file_path, 'r') as f:\n",
    "    lines = f.read().strip().split('\\n')\n",
    "    k, d = map(int, lines[0].split())\n",
    "    Dna = lines[1:]\n",
    "result = MotifEnumeration(Dna, k, d)\n",
    "print(' '.join(result))"
   ]
  },
  {
   "cell_type": "markdown",
   "id": "447edc9e",
   "metadata": {},
   "source": [
    "### Find a Median String"
   ]
  },
  {
   "cell_type": "markdown",
   "id": "388baa72",
   "metadata": {},
   "source": [
    "https://rosalind.info/problems/ba2b/"
   ]
  },
  {
   "cell_type": "code",
   "execution_count": 15,
   "id": "b1e8f848",
   "metadata": {},
   "outputs": [],
   "source": [
    "from itertools import product\n",
    "\n",
    "def HammingDistance(p, q):\n",
    "    return sum(pc != qc for pc, qc in zip(p, q))\n",
    "\n",
    "def DistanceBetweenPatternAndStrings(pattern, Dna):\n",
    "    k = len(pattern)\n",
    "    total_distance = 0\n",
    "    for seq in Dna:\n",
    "        min_distance = min(HammingDistance(pattern, seq[i:i + k]) for i in range(len(seq) - k + 1))\n",
    "        total_distance += min_distance\n",
    "    return total_distance\n",
    "\n",
    "\n",
    "def MedianString(Dna, k):\n",
    "    '''Finds a k-mer that minimizes the distance to a collection of DNA strings.\n",
    "    The distance between a k-mer and a DNA string is the minimum Hamming distance between the\n",
    "    k-mer and any k-mer in the DNA string. The distance between a k-mer and a collection of DNA strings\n",
    "    is the sum of the distances between the k-mer and each string in the collection.\n",
    "    Args:\n",
    "        Dna: A list of DNA strings.\n",
    "        k: The length of the k-mers to find.\n",
    "    Returns:\n",
    "        A k-mer that minimizes the distance to Dna.\n",
    "    '''\n",
    "    min_distance = float('inf')\n",
    "    median = None\n",
    "    for pattern in product(\"ACGT\", repeat=k):\n",
    "        pattern_str = ''.join(pattern)\n",
    "        distance = DistanceBetweenPatternAndStrings(pattern_str, Dna)\n",
    "        if distance < min_distance:\n",
    "            min_distance = distance\n",
    "            median = pattern_str\n",
    "\n",
    "    return median"
   ]
  },
  {
   "cell_type": "code",
   "execution_count": 16,
   "id": "1119ae9a",
   "metadata": {},
   "outputs": [
    {
     "name": "stdout",
     "output_type": "stream",
     "text": [
      "CTCTAG\n"
     ]
    }
   ],
   "source": [
    "with open('data/rosalind_ba2b.txt', 'r') as f:\n",
    "    lines = f.read().strip().split('\\n')\n",
    "    k = int(lines[0])\n",
    "    Dna = lines[1:]\n",
    "median = MedianString(Dna, k)\n",
    "print(median)"
   ]
  },
  {
   "cell_type": "markdown",
   "id": "177ff164",
   "metadata": {},
   "source": [
    "### Find a Profile-most Probable k-mer in a String"
   ]
  },
  {
   "cell_type": "markdown",
   "id": "8dba618e",
   "metadata": {},
   "source": [
    "https://rosalind.info/problems/ba2c/"
   ]
  },
  {
   "cell_type": "code",
   "execution_count": 17,
   "id": "e48f8a34",
   "metadata": {},
   "outputs": [],
   "source": [
    "def ProfileMostProbableKmer(text, k, profile):\n",
    "    '''Finds the most probable k-mer in a string given a profile matrix.\n",
    "    Args:\n",
    "        text: A DNA string.\n",
    "        k: The length of the k-mer to find.\n",
    "        profile: A dictionary representing the profile matrix with keys 'A', 'C', 'G', 'T'.\n",
    "                 Each key maps to a list of probabilities for each position in the k-mer.\n",
    "    Returns:\n",
    "        The most probable k-mer in text according to the profile matrix.\n",
    "    '''\n",
    "    max_prob = -1\n",
    "    most_prob_kmer = text[0:k]  # Default to the first k-mer\n",
    "    for i in range(len(text) - k + 1):\n",
    "        kmer = text[i:i + k]\n",
    "        prob = 1\n",
    "        for j, nucleotide in enumerate(kmer):\n",
    "            prob *= profile[nucleotide][j]\n",
    "        if prob > max_prob:\n",
    "            max_prob = prob\n",
    "            most_prob_kmer = kmer\n",
    "    return most_prob_kmer"
   ]
  },
  {
   "cell_type": "code",
   "execution_count": 18,
   "id": "696dcea9",
   "metadata": {},
   "outputs": [
    {
     "name": "stdout",
     "output_type": "stream",
     "text": [
      "GACTTTG\n"
     ]
    }
   ],
   "source": [
    "with open('data/rosalind_ba2c.txt', 'r') as f:\n",
    "    lines = f.read().strip().split('\\n')\n",
    "    text = lines[0]\n",
    "    k = int(lines[1])\n",
    "    profile_lines = lines[2:6]\n",
    "    profile = {}\n",
    "    nucleotides = ['A', 'C', 'G', 'T']\n",
    "    for nucleotide, line in zip(nucleotides, profile_lines):\n",
    "        profile[nucleotide] = list(map(float, line.split()))\n",
    "most_prob_kmer = ProfileMostProbableKmer(text, k, profile)\n",
    "print(most_prob_kmer)"
   ]
  },
  {
   "cell_type": "markdown",
   "id": "6e5ce4f4",
   "metadata": {},
   "source": [
    "### Implement GreedyMotifSearch"
   ]
  },
  {
   "cell_type": "markdown",
   "id": "86909b12",
   "metadata": {},
   "source": [
    "https://rosalind.info/problems/ba2d/"
   ]
  },
  {
   "cell_type": "code",
   "execution_count": 26,
   "id": "05625649",
   "metadata": {},
   "outputs": [],
   "source": [
    "from collections import Counter\n",
    "\n",
    "def score(motifs):\n",
    "    \"\"\"Compute the score of a set of motifs (lower is better).\"\"\"\n",
    "    k = len(motifs[0])\n",
    "    t = len(motifs)\n",
    "    score_val = 0\n",
    "    for j in range(k):\n",
    "        col = [motifs[i][j] for i in range(t)]\n",
    "        counts = Counter(col)\n",
    "        max_count = max(counts.values())\n",
    "        score_val += t - max_count\n",
    "    return score_val\n",
    "\n",
    "\n",
    "def profile(motifs):\n",
    "    \"\"\"Generate a profile matrix (no pseudocounts).\"\"\"\n",
    "    k = len(motifs[0])\n",
    "    t = len(motifs)\n",
    "    profile = {base: [0] * k for base in \"ACGT\"}\n",
    "\n",
    "    for j in range(k):\n",
    "        for i in range(t):\n",
    "            base = motifs[i][j]\n",
    "            profile[base][j] += 1\n",
    "        total = sum(profile[base][j] for base in \"ACGT\")\n",
    "        for base in \"ACGT\":\n",
    "            profile[base][j] /= total\n",
    "    return profile\n",
    "\n",
    "\n",
    "def probability(kmer, profile):\n",
    "    \"\"\"Compute the probability of a k-mer given a profile matrix.\"\"\"\n",
    "    prob = 1.0\n",
    "    for i, base in enumerate(kmer):\n",
    "        prob *= profile[base][i]\n",
    "    return prob\n",
    "\n",
    "\n",
    "def profile_most_probable_kmer(text, k, profile):\n",
    "    \"\"\"Return the most probable k-mer in a string given a profile matrix.\"\"\"\n",
    "    max_prob = -1\n",
    "    best_kmer = text[0:k]\n",
    "    for i in range(len(text) - k + 1):\n",
    "        kmer = text[i:i+k]\n",
    "        prob = probability(kmer, profile)\n",
    "        if prob > max_prob:\n",
    "            max_prob = prob\n",
    "            best_kmer = kmer\n",
    "    return best_kmer\n",
    "\n",
    "\n",
    "def greedy_motif_search(Dna, k, t):\n",
    "    \"\"\"The GREEDYMOTIFSEARCH algorithm (no pseudocounts).\"\"\"\n",
    "    BestMotifs = [dna[0:k] for dna in Dna]  # initial motifs: first k bases of each string\n",
    "    first_string = Dna[0]\n",
    "\n",
    "    for i in range(len(first_string) - k + 1):\n",
    "        Motif1 = first_string[i:i+k]\n",
    "        Motifs = [Motif1]\n",
    "        for j in range(1, t):\n",
    "            prof = profile(Motifs)\n",
    "            next_motif = profile_most_probable_kmer(Dna[j], k, prof)\n",
    "            Motifs.append(next_motif)\n",
    "        if score(Motifs) < score(BestMotifs):\n",
    "            BestMotifs = Motifs\n",
    "    return BestMotifs"
   ]
  },
  {
   "cell_type": "code",
   "execution_count": 27,
   "id": "b607505f",
   "metadata": {},
   "outputs": [
    {
     "name": "stdout",
     "output_type": "stream",
     "text": [
      "GGAGCTACAGTG\n",
      "GTCTATTGCATA\n",
      "CAGTCGGCGCAC\n",
      "GACGAGTCGGTA\n",
      "GTATAGGCGATC\n",
      "CCGCCGCAGTCC\n",
      "CGATCTTACTCC\n",
      "CGCTCTAGAATA\n",
      "CACTCTAGAGTG\n",
      "CCCGCTAGACTC\n",
      "CACGCGTACCTC\n",
      "CACGCTTCCGCG\n",
      "CGCTCGCCAGCC\n",
      "GTGGATACACTG\n",
      "CCCGCTAGACTC\n",
      "CACTCTAGACTG\n",
      "CCCGCTAGATTA\n",
      "CCCTCTAACGAA\n",
      "GGGGCTAGCTCA\n",
      "CACTCTAGAATC\n",
      "CACGCTAGAGTG\n",
      "CACGCTTGGGCG\n",
      "CGCCCTAGATTA\n",
      "CGCTCTAGAATG\n",
      "CTCTCTAGAATC\n"
     ]
    }
   ],
   "source": [
    "with open(\"data/rosalind_ba2d.txt\", \"r\") as f:\n",
    "        lines = f.read().strip().split(\"\\n\")\n",
    "        k, t = map(int, lines[0].split())\n",
    "        Dna = lines[1:]\n",
    "\n",
    "BestMotifs = greedy_motif_search(Dna, k, t)\n",
    "print(\"\\n\".join(BestMotifs))"
   ]
  },
  {
   "cell_type": "markdown",
   "id": "c3330f85",
   "metadata": {},
   "source": [
    "### Implement GreedyMotifSearch with Pseudocounts"
   ]
  },
  {
   "cell_type": "markdown",
   "id": "07ed39e5",
   "metadata": {},
   "source": [
    "https://rosalind.info/problems/ba2e/"
   ]
  },
  {
   "cell_type": "code",
   "execution_count": 30,
   "id": "2a2e9c95",
   "metadata": {},
   "outputs": [],
   "source": [
    "def ProfileWithPseudocounts(motifs):\n",
    "    profile = {nucleotide: [1] * k for nucleotide in \"ACGT\"}\n",
    "    for motif in motifs:\n",
    "        for j, nucleotide in enumerate(motif):\n",
    "            profile[nucleotide][j] += 1\n",
    "    total = len(motifs) + 4\n",
    "    for nucleotide in profile:\n",
    "        profile[nucleotide] = [count / total for count in profile[nucleotide]]\n",
    "    return profile\n",
    "\n",
    "def Score(motifs):\n",
    "    score = 0\n",
    "    for j in range(k):\n",
    "        counts = {nucleotide: 0 for nucleotide in \"ACGT\"}\n",
    "        for motif in motifs:\n",
    "            counts[motif[j]] += 1\n",
    "        max_count = max(counts.values())\n",
    "        score += len(motifs) - max_count\n",
    "    return score\n",
    "\n",
    "def GreedyMotifSearch(Dna, k, t):\n",
    "    '''\n",
    "    The GREEDYMOTIFSEARCH algorithm with pseudocounts.\n",
    "    Args:\n",
    "        Dna: A list of DNA strings.\n",
    "        k: The length of the k-mers to find.\n",
    "        t: The number of DNA strings in Dna.\n",
    "    Returns:\n",
    "        A list of the best motifs found.\n",
    "    '''\n",
    "    best_motifs = [seq[:k] for seq in Dna]\n",
    "    best_score = Score(best_motifs)\n",
    "\n",
    "    first_seq = Dna[0]\n",
    "    for i in range(len(first_seq) - k + 1):\n",
    "        motifs = [first_seq[i:i + k]]\n",
    "        for j in range(1, t):\n",
    "            current_profile = ProfileWithPseudocounts(motifs)\n",
    "            next_motif = ProfileMostProbableKmer(Dna[j], k, current_profile)\n",
    "            motifs.append(next_motif)\n",
    "        current_score = Score(motifs)\n",
    "        if current_score < best_score:\n",
    "            best_score = current_score\n",
    "            best_motifs = motifs\n",
    "\n",
    "    return best_motifs"
   ]
  },
  {
   "cell_type": "code",
   "execution_count": 32,
   "id": "497ae6ac",
   "metadata": {},
   "outputs": [
    {
     "name": "stdout",
     "output_type": "stream",
     "text": [
      "TCCCATCGGTCG\n",
      "ACCCATCCGTCT\n",
      "GCCCATCAGTAC\n",
      "TCCCATCGGTTT\n",
      "GCCCATCTGTGC\n",
      "CCCCATCCGTCC\n",
      "CCCCATCTGTGT\n",
      "ACCCATCGGTTC\n",
      "GCCCATCCGTAA\n",
      "GCCCATCGGTTC\n",
      "CCCCATCGGTCT\n",
      "GCCCATCCGTAT\n",
      "TCCCATCTGTCT\n",
      "TCCCATCGGTGT\n",
      "CCCCATCCGTGA\n",
      "CCCCATCAGTAA\n",
      "ACCCATCAGTGA\n",
      "ACCCATCGGTCC\n",
      "ACCCATCAGTAA\n",
      "CCCCATCCGTAC\n",
      "CCCCATCGGTTA\n",
      "ACCCATCAGTGG\n",
      "TCCCATCGGTGT\n",
      "GCCCATCAGTGG\n",
      "TCCCATCTGTCA\n"
     ]
    }
   ],
   "source": [
    "with open('data/rosalind_ba2e.txt', 'r') as f:\n",
    "    lines = f.read().strip().split('\\n')\n",
    "    k, t = map(int, lines[0].split())\n",
    "    Dna = lines[1:]\n",
    "BestMotifs = GreedyMotifSearch(Dna, k, t)\n",
    "print('\\n'.join(BestMotifs))"
   ]
  },
  {
   "cell_type": "markdown",
   "id": "fe41d4a7",
   "metadata": {},
   "source": [
    "### Implement RandomizedMotifSearch"
   ]
  },
  {
   "cell_type": "markdown",
   "id": "f33e34b8",
   "metadata": {},
   "source": [
    "https://rosalind.info/problems/ba2f/"
   ]
  },
  {
   "cell_type": "code",
   "execution_count": 51,
   "id": "77e1ae01",
   "metadata": {},
   "outputs": [],
   "source": [
    "import random\n",
    "\n",
    "def score(motifs):\n",
    "    consensus = \"\"\n",
    "    k = len(motifs[0])\n",
    "    for j in range(k):\n",
    "        counts = {\"A\":0, \"C\":0, \"G\":0, \"T\":0}\n",
    "        for motif in motifs:\n",
    "            counts[motif[j]] += 1\n",
    "        consensus += max(counts, key=counts.get)\n",
    "    score = 0\n",
    "    for motif in motifs:\n",
    "        for j in range(k):\n",
    "            if motif[j] != consensus[j]:\n",
    "                score += 1\n",
    "    return score\n",
    "\n",
    "def profile_with_pseudocounts(motifs):\n",
    "    k = len(motifs[0])\n",
    "    t = len(motifs)\n",
    "    profile = {ch:[1]*(k) for ch in \"ACGT\"}  # pseudocount=1\n",
    "    for motif in motifs:\n",
    "        for j, ch in enumerate(motif):\n",
    "            profile[ch][j] += 1\n",
    "    # normalize\n",
    "    for j in range(k):\n",
    "        total = sum(profile[ch][j] for ch in \"ACGT\")\n",
    "        for ch in \"ACGT\":\n",
    "            profile[ch][j] /= total\n",
    "    return profile\n",
    "\n",
    "def pr(kmer, profile):\n",
    "    p = 1.0\n",
    "    for j, ch in enumerate(kmer):\n",
    "        p *= profile[ch][j]\n",
    "    return p\n",
    "\n",
    "def profile_most_probable_kmer(text, k, profile):\n",
    "    max_prob = -1\n",
    "    most_prob_kmer = text[0:k]\n",
    "    for i in range(len(text) - k + 1):\n",
    "        kmer = text[i:i+k]\n",
    "        prob = pr(kmer, profile)\n",
    "        if prob > max_prob:\n",
    "            max_prob = prob\n",
    "            most_prob_kmer = kmer\n",
    "    return most_prob_kmer\n",
    "\n",
    "def randomized_motif_search(Dna, k, t):\n",
    "    # randomly select k-mers\n",
    "    motifs = []\n",
    "    for seq in Dna:\n",
    "        start = random.randint(0, len(seq)-k)\n",
    "        motifs.append(seq[start:start+k])\n",
    "    best_motifs = motifs[:]\n",
    "    while True:\n",
    "        profile = profile_with_pseudocounts(motifs)\n",
    "        motifs = [profile_most_probable_kmer(seq, k, profile) for seq in Dna]\n",
    "        if score(motifs) < score(best_motifs):\n",
    "            best_motifs = motifs[:]\n",
    "        else:\n",
    "            return best_motifs\n",
    "\n",
    "def repeated_randomized_motif_search(Dna, k, t, N=1000):\n",
    "    best_motifs = randomized_motif_search(Dna, k, t)\n",
    "    for _ in range(N-1):\n",
    "        motifs = randomized_motif_search(Dna, k, t)\n",
    "        if score(motifs) < score(best_motifs):\n",
    "            best_motifs = motifs\n",
    "    return best_motifs\n"
   ]
  },
  {
   "cell_type": "code",
   "execution_count": 53,
   "id": "47849e57",
   "metadata": {},
   "outputs": [
    {
     "name": "stdout",
     "output_type": "stream",
     "text": [
      "CTTGCCGATGATACT\n",
      "CTTAAGAGACACACT\n",
      "GCTGGTAGACACACC\n",
      "GTTGGTAGACACAAC\n",
      "CTTGCAGGACACACT\n",
      "CGGAGTAGACACACT\n",
      "CTCCCTAGACACACT\n",
      "CTTGGTAGACCACCT\n",
      "CTTGGTAGACACTGA\n",
      "CTTGGTAACGACACT\n",
      "CTTGGTAGACAGCAT\n",
      "CTTGGTAGAACGACT\n",
      "CTTCCGAGACACACT\n",
      "CTTGCGGGACACACT\n",
      "CTTGGTTCTCACACT\n",
      "CTTGGTTAGCACACT\n",
      "CTTGGCTCACACACT\n",
      "AACGGTAGACACACT\n",
      "CTTGGTAGTATCACT\n",
      "CTTGGATAACACACT\n"
     ]
    }
   ],
   "source": [
    "with open(\"data/rosalind_ba2f.txt\", \"r\") as f:\n",
    "    lines = f.read().strip().split(\"\\n\")\n",
    "    k, t = map(int, lines[0].split())\n",
    "    Dna = lines[1:]\n",
    "\n",
    "best = repeated_randomized_motif_search(Dna, k, t, N=1000)\n",
    "print(\"\\n\".join(best))"
   ]
  },
  {
   "cell_type": "markdown",
   "id": "a5257c81",
   "metadata": {},
   "source": [
    "### Implement GibbsSampler"
   ]
  },
  {
   "cell_type": "markdown",
   "id": "a6dc29b8",
   "metadata": {},
   "source": [
    "https://rosalind.info/problems/ba2g/"
   ]
  },
  {
   "cell_type": "code",
   "execution_count": 55,
   "id": "05864d22",
   "metadata": {},
   "outputs": [],
   "source": [
    "import random\n",
    "from collections import Counter\n",
    "\n",
    "def score(motifs):\n",
    "    \"\"\"Compute the score of a set of motifs (lower is better).\"\"\"\n",
    "    k = len(motifs[0])\n",
    "    t = len(motifs)\n",
    "    score_val = 0\n",
    "    for j in range(k):\n",
    "        col = [motif[j] for motif in motifs]\n",
    "        counts = Counter(col)\n",
    "        max_count = max(counts.values())\n",
    "        score_val += t - max_count\n",
    "    return score_val\n",
    "\n",
    "def profile_with_pseudocounts(motifs):\n",
    "    \"\"\"Construct profile with pseudocounts.\"\"\"\n",
    "    k = len(motifs[0])\n",
    "    profile = {ch:[1]*k for ch in \"ACGT\"}  # pseudocount = 1\n",
    "    for motif in motifs:\n",
    "        for j, ch in enumerate(motif):\n",
    "            profile[ch][j] += 1\n",
    "    # normalize\n",
    "    for j in range(k):\n",
    "        total = sum(profile[ch][j] for ch in \"ACGT\")\n",
    "        for ch in \"ACGT\":\n",
    "            profile[ch][j] /= total\n",
    "    return profile\n",
    "\n",
    "def pr(kmer, profile):\n",
    "    \"\"\"Probability of k-mer given profile.\"\"\"\n",
    "    p = 1.0\n",
    "    for j, ch in enumerate(kmer):\n",
    "        p *= profile[ch][j]\n",
    "    return p\n",
    "\n",
    "def profile_randomly_generated_kmer(text, k, profile):\n",
    "    \"\"\"Randomly select a k-mer from text weighted by profile probabilities.\"\"\"\n",
    "    probabilities = []\n",
    "    n = len(text) - k + 1\n",
    "    for i in range(n):\n",
    "        kmer = text[i:i+k]\n",
    "        probabilities.append(pr(kmer, profile))\n",
    "    total = sum(probabilities)\n",
    "    probabilities = [p/total for p in probabilities]  # normalize\n",
    "    chosen_index = random.choices(range(n), weights=probabilities, k=1)[0]\n",
    "    return text[chosen_index:chosen_index+k]\n",
    "\n",
    "def gibbs_sampler(Dna, k, t, N):\n",
    "    \"\"\"Gibbs Sampler for motifs.\"\"\"\n",
    "    motifs = []\n",
    "    for seq in Dna:\n",
    "        start = random.randint(0, len(seq)-k)\n",
    "        motifs.append(seq[start:start+k])\n",
    "    best_motifs = motifs[:]\n",
    "\n",
    "    for j in range(N):\n",
    "        i = random.randint(0, t-1)  # pick one sequence to update\n",
    "        motifs_except_i = motifs[:i] + motifs[i+1:]\n",
    "        profile = profile_with_pseudocounts(motifs_except_i)\n",
    "        motifs[i] = profile_randomly_generated_kmer(Dna[i], k, profile)\n",
    "        if score(motifs) < score(best_motifs):\n",
    "            best_motifs = motifs[:]\n",
    "\n",
    "    return best_motifs\n",
    "\n",
    "def repeated_gibbs_sampler(Dna, k, t, N, runs=20):\n",
    "    \"\"\"Run GibbsSampler multiple times and return the best overall motifs.\"\"\"\n",
    "    best_motifs_overall = gibbs_sampler(Dna, k, t, N)\n",
    "    best_score_overall = score(best_motifs_overall)\n",
    "    for _ in range(runs-1):\n",
    "        motifs = gibbs_sampler(Dna, k, t, N)\n",
    "        s = score(motifs)\n",
    "        if s < best_score_overall:\n",
    "            best_score_overall = s\n",
    "            best_motifs_overall = motifs[:]\n",
    "    return best_motifs_overall\n"
   ]
  },
  {
   "cell_type": "code",
   "execution_count": 56,
   "id": "9c1e2b5a",
   "metadata": {},
   "outputs": [
    {
     "name": "stdout",
     "output_type": "stream",
     "text": [
      "AATATCAAACAGGCC\n",
      "GGTTCCAAACTGTAC\n",
      "GGTATTAAAGATTAC\n",
      "GGTATATGACTGTAC\n",
      "GGTATTAAACTGGTT\n",
      "GGTATTATCATGTAC\n",
      "GGTATTAACTGGTAC\n",
      "GGTTCCAAACTGTAC\n",
      "GGTATTTGGCTGTAC\n",
      "GGTAGGTAACTGTAC\n",
      "GGTATACCACTGTAC\n",
      "TTCATTAAACTGTAC\n",
      "GGTATTCGCCTGTAC\n",
      "GGGGCTAAACTGTAC\n",
      "GAGGTTAAACTGTAC\n",
      "GGTATTAAACTCGCC\n",
      "GGTATTAAACATGAC\n",
      "GGTACCGAACTGTAC\n",
      "TTTATTAAACTGTAA\n",
      "CGTATTAAACTGTGT\n"
     ]
    }
   ],
   "source": [
    "with open(\"data/rosalind_ba2g.txt\", \"r\") as f:\n",
    "    lines = f.read().strip().split(\"\\n\")\n",
    "    k, t, N = map(int, lines[0].split())\n",
    "    Dna = lines[1:]\n",
    "best = repeated_gibbs_sampler(Dna, k, t, N, runs=20)\n",
    "print(\"\\n\".join(best))"
   ]
  }
 ],
 "metadata": {
  "kernelspec": {
   "display_name": "AXIS",
   "language": "python",
   "name": "axis"
  },
  "language_info": {
   "codemirror_mode": {
    "name": "ipython",
    "version": 3
   },
   "file_extension": ".py",
   "mimetype": "text/x-python",
   "name": "python",
   "nbconvert_exporter": "python",
   "pygments_lexer": "ipython3",
   "version": "3.10.0"
  }
 },
 "nbformat": 4,
 "nbformat_minor": 5
}
