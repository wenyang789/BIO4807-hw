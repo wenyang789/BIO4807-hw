{
 "cells": [
  {
   "cell_type": "markdown",
   "id": "b83043d5",
   "metadata": {},
   "source": [
    "### Find the Minimum Number of Coins Needed to Make Change"
   ]
  },
  {
   "cell_type": "markdown",
   "id": "a9ce5b9b",
   "metadata": {},
   "source": [
    "https://rosalind.info/problems/ba5a"
   ]
  },
  {
   "cell_type": "code",
   "execution_count": 1,
   "id": "518bd67b",
   "metadata": {},
   "outputs": [],
   "source": [
    "def TheChangeProblem(coins, amount):\n",
    "    # Initialize a list to store the minimum coins needed for each amount\n",
    "    dp = [float('inf')] * (amount + 1)\n",
    "    dp[0] = 0  # Base case: 0 coins are needed to make amount 0\n",
    "\n",
    "    # Iterate through each coin\n",
    "    for coin in coins:\n",
    "        # Update the dp array for all amounts that can be reached with the current coin\n",
    "        for x in range(coin, amount + 1):\n",
    "            dp[x] = min(dp[x], dp[x - coin] + 1)\n",
    "\n",
    "    # If dp[amount] is still infinity, it means it's not possible to make that amount\n",
    "    return dp[amount] if dp[amount] != float('inf') else -1"
   ]
  },
  {
   "cell_type": "code",
   "execution_count": 4,
   "id": "1dd22658",
   "metadata": {},
   "outputs": [
    {
     "name": "stdout",
     "output_type": "stream",
     "text": [
      "770\n"
     ]
    }
   ],
   "source": [
    "with open('data/rosalind_ba5a.txt') as f:\n",
    "    lines = f.readlines()\n",
    "    amount = int(lines[0].strip())\n",
    "    coins = list(map(int, lines[1].strip().split(',')))\n",
    "    result = TheChangeProblem(coins, amount)\n",
    "    print(result)"
   ]
  },
  {
   "cell_type": "markdown",
   "id": "f3c4a041",
   "metadata": {},
   "source": [
    "### Find the Length of a Longest Path in a Manhattan-like Grid"
   ]
  },
  {
   "cell_type": "markdown",
   "id": "69c3a61d",
   "metadata": {},
   "source": [
    "https://rosalind.info/problems/ba5b"
   ]
  },
  {
   "cell_type": "code",
   "execution_count": 5,
   "id": "9b28e00c",
   "metadata": {},
   "outputs": [],
   "source": [
    "def ManhattanTourist(n, m, Down, Right):\n",
    "    # 初始化 DP 表\n",
    "    s = [[0] * (m + 1) for _ in range(n + 1)]\n",
    "    \n",
    "    # 初始化第一列：只能往下走\n",
    "    for i in range(1, n + 1):\n",
    "        s[i][0] = s[i - 1][0] + Down[i - 1][0]\n",
    "    \n",
    "    # 初始化第一行：只能往右走\n",
    "    for j in range(1, m + 1):\n",
    "        s[0][j] = s[0][j - 1] + Right[0][j - 1]\n",
    "    \n",
    "    # 填充 DP 表\n",
    "    for i in range(1, n + 1):\n",
    "        for j in range(1, m + 1):\n",
    "            s[i][j] = max(\n",
    "                s[i - 1][j] + Down[i - 1][j],   # 从上往下\n",
    "                s[i][j - 1] + Right[i][j - 1]   # 从左往右\n",
    "            )\n",
    "    \n",
    "    return s[n][m]\n"
   ]
  },
  {
   "cell_type": "code",
   "execution_count": 6,
   "id": "c4fc7ea3",
   "metadata": {},
   "outputs": [
    {
     "name": "stdout",
     "output_type": "stream",
     "text": [
      "85\n"
     ]
    }
   ],
   "source": [
    "def read_rosalind_ba5b(filename):\n",
    "    with open(filename) as f:\n",
    "        lines = [line.strip() for line in f.readlines() if line.strip()]\n",
    "    \n",
    "    n, m = map(int, lines[0].split())\n",
    "    \n",
    "    # 找到 \"-\" 的分割行\n",
    "    sep_index = lines.index('-')\n",
    "    down_lines = lines[1:sep_index]\n",
    "    right_lines = lines[sep_index + 1:]\n",
    "    \n",
    "    Down = [list(map(int, row.split())) for row in down_lines]\n",
    "    Right = [list(map(int, row.split())) for row in right_lines]\n",
    "    \n",
    "    return n, m, Down, Right\n",
    "\n",
    "\n",
    "def main():\n",
    "    n, m, Down, Right = read_rosalind_ba5b('data/rosalind_ba5b.txt')\n",
    "    result = ManhattanTourist(n, m, Down, Right)\n",
    "    print(result)\n",
    "\n",
    "\n",
    "if __name__ == \"__main__\":\n",
    "    main()\n"
   ]
  },
  {
   "cell_type": "markdown",
   "id": "5f02662f",
   "metadata": {},
   "source": [
    "### Find a Longest Common Subsequence of Two Strings"
   ]
  },
  {
   "cell_type": "markdown",
   "id": "e350d266",
   "metadata": {},
   "source": [
    "https://rosalind.info/problems/ba5c"
   ]
  },
  {
   "cell_type": "code",
   "execution_count": 9,
   "id": "165c4644",
   "metadata": {},
   "outputs": [],
   "source": [
    "def LongestCommonSubsequence(v, w):\n",
    "    n, m = len(v), len(w)\n",
    "    \n",
    "    # 创建 DP 表\n",
    "    s = [[0] * (m + 1) for _ in range(n + 1)]\n",
    "    \n",
    "    # 填充 DP 表\n",
    "    for i in range(1, n + 1):\n",
    "        for j in range(1, m + 1):\n",
    "            if v[i - 1] == w[j - 1]:\n",
    "                s[i][j] = s[i - 1][j - 1] + 1\n",
    "            else:\n",
    "                s[i][j] = max(s[i - 1][j], s[i][j - 1])\n",
    "    \n",
    "    # 回溯得到实际序列\n",
    "    lcs = []\n",
    "    i, j = n, m\n",
    "    while i > 0 and j > 0:\n",
    "        if v[i - 1] == w[j - 1]:\n",
    "            lcs.append(v[i - 1])\n",
    "            i -= 1\n",
    "            j -= 1\n",
    "        elif s[i - 1][j] >= s[i][j - 1]:\n",
    "            i -= 1\n",
    "        else:\n",
    "            j -= 1\n",
    "    \n",
    "    return ''.join(reversed(lcs))\n"
   ]
  },
  {
   "cell_type": "code",
   "execution_count": 11,
   "id": "51b60304",
   "metadata": {},
   "outputs": [
    {
     "name": "stdout",
     "output_type": "stream",
     "text": [
      "GAACTGTCCTATTAGTACGGATATAGCACGGTCCTCGACTTTTTCAAAACTAAACAGGAAAGCCAGCGTCGTTTGGGTGTTGACATGCCGTATCCGTAACAGGAATTAGCCGGGCGTCTCGAAGTCTTTGCGACAGGGAATATTTTTAAGGAGCGGGAGGTCACCCCCGTAGGAGTGGGGTTCTAACCGTAATCCCACTCAAGACGTTTCATCAGGAAATCGCCCCTGGGAATCGTGTAACGGATTCGGTACTGTAGTTAGATCTAAGGGGACCCACGTGCAGCCGTGATCGCCAAGCTTTGACGGGCGATGTTTCCATGCAAGGAAAAGACTCCCTTCCAGTCGAGAGGCCGCGCGCGCAACCTTAGTTTAACTCTTGGAATTTCCAGAACGCGACGTGGGGGAAGCACATGCAACCAGGTTCCTCCATTGTAATGGAGGGGCACCCATAGACCCTGTGGGCAAGTTTGACCTAGGACACTGTACGCAACCCGTTCCTCGGGGAAACCCCTTAGACCCAGCTATATTTTGGTCTCCTATGAAGTAGACCCCCCTTTACTAGGGCCGTTTACCCCGCAAAGCCCGCGGATAAACACA\n"
     ]
    }
   ],
   "source": [
    "def read_rosalind_ba5c(filename):\n",
    "    with open(filename) as f:\n",
    "        lines = [line.strip() for line in f.readlines() if line.strip()]\n",
    "    return lines[0], lines[1]\n",
    "\n",
    "\n",
    "def main():\n",
    "    v, w = read_rosalind_ba5c('data/rosalind_ba5c.txt')\n",
    "    result = LongestCommonSubsequence(v, w)\n",
    "    print(result)\n",
    "\n",
    "\n",
    "if __name__ == \"__main__\":\n",
    "    main()"
   ]
  },
  {
   "cell_type": "markdown",
   "id": "17b342d5",
   "metadata": {},
   "source": [
    "### Find the Longest Path in a DAG （Directed Acyclic Graph）"
   ]
  },
  {
   "cell_type": "markdown",
   "id": "f6b7c214",
   "metadata": {},
   "source": [
    "https://rosalind.info/problems/ba5d"
   ]
  },
  {
   "cell_type": "code",
   "execution_count": 12,
   "id": "d23b0f93",
   "metadata": {},
   "outputs": [],
   "source": [
    "from collections import defaultdict, deque\n",
    "\n",
    "def topological_sort(adj):\n",
    "    indegree = defaultdict(int)\n",
    "    for u in adj:\n",
    "        for v, _ in adj[u]:\n",
    "            indegree[v] += 1\n",
    "\n",
    "    # 入度为 0 的节点\n",
    "    zero_indegree = deque([u for u in adj if indegree[u] == 0])\n",
    "\n",
    "    order = []\n",
    "    while zero_indegree:\n",
    "        u = zero_indegree.popleft()\n",
    "        order.append(u)\n",
    "        for v, _ in adj[u]:\n",
    "            indegree[v] -= 1\n",
    "            if indegree[v] == 0:\n",
    "                zero_indegree.append(v)\n",
    "    return order\n",
    "\n",
    "\n",
    "def longest_path_in_DAG(source, sink, adj):\n",
    "    # 拓扑排序\n",
    "    order = topological_sort(adj)\n",
    "    \n",
    "    # 初始化 DP\n",
    "    dist = defaultdict(lambda: float('-inf'))\n",
    "    dist[source] = 0\n",
    "    backtrack = {}\n",
    "\n",
    "    # 按拓扑顺序动态规划\n",
    "    for u in order:\n",
    "        for v, w in adj[u]:\n",
    "            if dist[v] < dist[u] + w:\n",
    "                dist[v] = dist[u] + w\n",
    "                backtrack[v] = u\n",
    "\n",
    "    # 回溯路径\n",
    "    path = [sink]\n",
    "    while path[-1] != source:\n",
    "        path.append(backtrack[path[-1]])\n",
    "    path.reverse()\n",
    "\n",
    "    return dist[sink], path\n"
   ]
  },
  {
   "cell_type": "code",
   "execution_count": 13,
   "id": "08cefd1c",
   "metadata": {},
   "outputs": [
    {
     "name": "stdout",
     "output_type": "stream",
     "text": [
      "58\n",
      "1->9->31\n"
     ]
    }
   ],
   "source": [
    "def read_rosalind_ba5d(filename):\n",
    "    with open(filename) as f:\n",
    "        lines = [line.strip() for line in f.readlines() if line.strip()]\n",
    "    source = int(lines[0])\n",
    "    sink = int(lines[1])\n",
    "    adj = defaultdict(list)\n",
    "    for line in lines[2:]:\n",
    "        left, right = line.split('->')\n",
    "        u = int(left)\n",
    "        v, w = map(int, right.split(':'))\n",
    "        adj[u].append((v, w))\n",
    "        if v not in adj:  # 确保每个节点都在图中出现\n",
    "            adj[v] = []\n",
    "    return source, sink, adj\n",
    "\n",
    "\n",
    "def main():\n",
    "    source, sink, adj = read_rosalind_ba5d('data/rosalind_ba5d.txt')\n",
    "    length, path = longest_path_in_DAG(source, sink, adj)\n",
    "    print(length)\n",
    "    print('->'.join(map(str, path)))\n",
    "\n",
    "\n",
    "if __name__ == \"__main__\":\n",
    "    main()\n"
   ]
  },
  {
   "cell_type": "markdown",
   "id": "b5f77d83",
   "metadata": {},
   "source": [
    "### Find a Highest-Scoring Alignment of Two Strings"
   ]
  },
  {
   "cell_type": "markdown",
   "id": "719e8665",
   "metadata": {},
   "source": [
    "https://rosalind.info/problems/ba5e"
   ]
  },
  {
   "cell_type": "code",
   "execution_count": 17,
   "id": "bf024388",
   "metadata": {},
   "outputs": [],
   "source": [
    "def read_blosum62(filename=\"data/BLOSUM62.txt\"):\n",
    "    with open(filename) as f:\n",
    "        lines = [line.strip() for line in f if line.strip()]\n",
    "    symbols = lines[0].split()\n",
    "    blosum = {}\n",
    "    for line in lines[1:]:\n",
    "        parts = line.split()\n",
    "        aa = parts[0]\n",
    "        scores = list(map(int, parts[1:]))\n",
    "        for sym, sc in zip(symbols, scores):\n",
    "            blosum[(aa, sym)] = sc\n",
    "    return blosum\n",
    "\n",
    "\n",
    "def global_alignment(v, w, blosum, sigma=5):\n",
    "    n, m = len(v), len(w)\n",
    "    s = [[0] * (m + 1) for _ in range(n + 1)]\n",
    "    backtrack = [[None] * (m + 1) for _ in range(n + 1)]\n",
    "\n",
    "    # 初始化边界\n",
    "    for i in range(1, n + 1):\n",
    "        s[i][0] = -sigma * i\n",
    "        backtrack[i][0] = \"down\"\n",
    "    for j in range(1, m + 1):\n",
    "        s[0][j] = -sigma * j\n",
    "        backtrack[0][j] = \"right\"\n",
    "\n",
    "    # 填充 DP 表\n",
    "    for i in range(1, n + 1):\n",
    "        for j in range(1, m + 1):\n",
    "            match = s[i - 1][j - 1] + blosum[(v[i - 1], w[j - 1])]\n",
    "            delete = s[i - 1][j] - sigma\n",
    "            insert = s[i][j - 1] - sigma\n",
    "            s[i][j] = max(match, delete, insert)\n",
    "\n",
    "            if s[i][j] == match:\n",
    "                backtrack[i][j] = \"diag\"\n",
    "            elif s[i][j] == delete:\n",
    "                backtrack[i][j] = \"down\"\n",
    "            else:\n",
    "                backtrack[i][j] = \"right\"\n",
    "\n",
    "    # 回溯得到比对结果\n",
    "    i, j = n, m\n",
    "    aligned_v, aligned_w = [], []\n",
    "    while i > 0 or j > 0:\n",
    "        if backtrack[i][j] == \"diag\":\n",
    "            aligned_v.append(v[i - 1])\n",
    "            aligned_w.append(w[j - 1])\n",
    "            i -= 1\n",
    "            j -= 1\n",
    "        elif backtrack[i][j] == \"down\":\n",
    "            aligned_v.append(v[i - 1])\n",
    "            aligned_w.append(\"-\")\n",
    "            i -= 1\n",
    "        else:  # \"right\"\n",
    "            aligned_v.append(\"-\")\n",
    "            aligned_w.append(w[j - 1])\n",
    "            j -= 1\n",
    "\n",
    "    return s[n][m], \"\".join(reversed(aligned_v)), \"\".join(reversed(aligned_w))\n"
   ]
  },
  {
   "cell_type": "code",
   "execution_count": 18,
   "id": "e916468d",
   "metadata": {},
   "outputs": [
    {
     "name": "stdout",
     "output_type": "stream",
     "text": [
      "10435\n",
      "EIEKGMTAYTMAQRGDYKTIHKCHNTCGNGPSQSEMHWEEVALTKGVMWQTATESGHKEMRVPGKIRKANRKWMFPCDKWPPIQYYHSACRSSIININKLPQ-V-IWPWGRTAMCMEKDHTVPPAIIHKGCWPTHYHEGWPDAKTQNRMAATIFQNSELSQILTKCAES--SCNCLQQDLRLGFPEAGVIDMHLFGASLQDMFDGMRDH-ASHPTPKHTLKPNCLGVPFRYNFPIFYPGGTSFNCFYHCDMPDAAGLYVTKKYEKTMFKSGVISSLQKSPF-LR-S-GDLNELFKADSYWIVSRPVMNEWSWWWCVTFCPSRIQMFHILFNPPFQFKTDANEWTMVFIETSTKPLMSGDKWHYLCARRRFLQSAFLYKKTMWASAYCTRPYQYKTLAKDLMKARPITYNSVIQNHNRDSTDTIIFPAREIVGWRRDPAFTTVWTNVIFMNIHREIMYFVVILWAACTSFVPHLSINLHPDIRIFSGIKIWPSLPWNEKGSCSKFWNWDVYSHQYN-----SHRE-M------DDYMLNCDHFVHEHYKLTQTDEPCHTPKQTFASGAIWPKPWI--WFNSKATHDKSVSGYKHSADDFKMANCGMHPTQVCGYDDDMKCRWWINTQSGFVID-F----LRPSMYLRMHNAQDDAIYDSRNDINTAHDPHKGYTETYVRMEEMNMNWQELDRCRKTAKLMRRVQCEETWPQCHWTNFKITWDCRQCTKSFDIYHVGKTIFKVYGVIVQKPWSEMFGIEEVSNATTMIWCMT-------YPDKEDSRIDY-H-HMLD--M--GYEWLGMKDNWTQESKRAHQRRFNNGFEFWDQSPMIAWYKDWTFQWG--PEKPEIGQHGIISKG--HKATLVIAAN-RC-LGNC-D--PTAMGFWSYYELYMYGELPFMCNCR-YSNVTSWVRSWLKVFCWYCHNECWYFHMHERAKLA-----YMVTADSHDMKPFNDNEWQTKLSSSPDQIP-WKF-VRRWDVKSSFFEARRVGQANANLDDNHFGRMYFTVYRKYICFKRPLIRFEYVMLFE--MSENSCLEKYTHLHMDEHLS-D-SDAVCWVHVGMEAQFWNYMYNYCKTWDIPFFTVF---W--MDPIAWPAHASRPMSGHVVCDLYHRNEHTCDAVSNHPEVWGYSFLV-AWENACMM----YTR-N-LLEDMGLHVIAKHNHDWHKYDEFNTFTEEKDSRNDHHSMPTLHTRMQSW------NY--RSFMVL-D--TTAGTV---CMIDLMLKAITQGARVNWMMWLKWWWCALWVWIVPWGQQVGWHKSTAPMVTCLKWHTMDEIFVSHHAKQCWFHHTPSHGS--SEAAMYAHIWMPGVSHYAWPMWIGLQQIKQFCTSQRDVH-IQ-TQTIKQWWHRYG-WTNHCALGMGMLCKGSGILFQGLKE-SISVQAWYYDSIDH-QVHNTGPIITRVLSQPSWWCQQLVQ----S-YEEIGFGKRMMV----SMAPPYTMRWWECVHCGPCKPKEFGGWDHERRNGAECMFFMAWIQSGIILQNAVGLIMW-KAHDVAHEGDNWNAQYDTNWTIKRFVACTCPDSWHDCAHCGQEMDVIVVWQDFTEAEYDCKWMAMWIVQVYTMTRIASH---TV----W-PEEMLSKIVVVFTNYNWMTALISEW-MMRQWMGWWRPARGVSIGKSCDIIHMMMRFQIRFQKVWKWHTFDVWYLRYHHWKMIMPCDDWPMQFEMQV-N-VCHETHNEFFMAVEAPDPAPFYCW--I---YIVPYFTRPFQLAATRAMSPHTLYLLCNY-ELA-LE-YFMDWQNRMMPEEDDEHFRH-LFSPIEYLVISEHWKLRGPWLQHNMHM---RAQLTNLIRIICYTYGCQDHIIPPHYFPFWICKGNNFRWVPYNGDSTNQKVYECCCWHHYPQVNMFEMDCEAVLYCEGLLNFVSGLAYTNAAGLATAHKIKRRSGMASMCAM-VESDTKVDDCFGAIMWNHIRRVPKSERWGMDKPKDKFQPQEICHLACHK-NNIIHDPGKKNAAGHREDNYKEQYNATMPLTC--LCYIIYPSILNPVSAGLTLGTFKVRG--S---WLNSILPKFGMTSHENVRRNAFRSEIQWMHCSDFLGAAYCAGKRLC----RQMVYMMP-H---MCRKGLEY------CYHPNEMGHDR--NTMGLNPSPQAWEPGVMHWQDHVDSCGFRNDSQTGQDWGQFICCYMTKDDAYGNATNEGVHKPEFRYHCMK--W-HRKLINTM--IG-CYFF---HHMLLDKQHWQQCTWHRA-G--Q--MQWAKVGWPHGRLNGHQIYAGEGPSMTHST-SGAETTPHIPQQ-----MWLPFFRTLIISHMQ--------GWCKIPLSDNHEWCPYAFNDAEQ-NDPE-I-FHIMAK-HRMHWKVRCCAGNMHAPLHPVASKNAVDPHCRHTDGKLQRWDGFEDG--SYNKIVPMRPEPAQHYVGLQMIMFIVMLDAI-MTIAFLLL--W-SQCNDVMSHETIQTLTKYLFPECWDMYIQAQCMSEPYRS-YQNAQYVPTNYVLT-IQVEDPSFTYDMNHRKWQRYAYSIIHVSRGDRRYNVPEEASDTAQFLQHPYAVIRRPVNPWLECCPVNGDIW-HEVDA---E----PQE-AW-RNPIVTNC-DGCACLIQDVKTRKDQDSMMMEIGDFGGVADTYASELWTGENLDVPCCVHMALTFGCYHEHYEGIFHSFTG--------CCSKHGIKFNKQDPRYCPSGSI--HGDVEDNR---YCENMDDPH--T-PI--N-------HHYS----Y-SNGFVQDMAQAYRVAYSGHFSRQKQEEEDCCDTMRRHHWAMNWWINNTISPCSHKNFDKFWEKKSAPHQCCPIFMPHKDVLITEAQMNLYPQWACA--ILDGCAKNLFAACRMEANEELDIKRRTRKMRIQEIPYGCPCGTNENRAYQAENVFIFEDRGCERSYPQIQWFFIEDNMGTQDRVAGVPFIWVWKKNVKGCVFWNGAFNPTFFIVQCNM-MWWCCIR----D-HMKQQNPWNSKDFGPCFWRLVNKCVCQDNIK---VSDTHVFCHSGRWW-N------R-IIMSHF-NEYFEEYTCAMCPDANSISYVMQTEYANQWMLSSIIIWLRFQNLGLNVHNAIGGPY-GSGKKWIHMNQFGPKKMLKIMGDMRSMKEREMYEPIHLVRFMAGN-GAMMDADMQCDENKKKRIVIQNFCDQHHCMSECNPKWTVLVAWGYHSKAGAVYIGDAAMKQGMRDWDW-LYNWKWHVACMVTECGVNGVIRESSNRRSATAVWMWPACCAGAYCQENRPI--K--S-GS-TTIYYQGESYFESLRCRIVEELWWAPYFGLAAFFHVFSYYLVRRQTCTMAIAHKWIVAGMTV--G-DWITGMAVECH-FNPGFVPKKCNYNHVEIQYNPAENTFINEARRREPPNKWPWAPTICMVRFCECMTMHYKHWIRDVQLFLT-KQENFNWSDMYESGTYERVDWQYHTNFEQDTNCLRNNFEIYNMILTWEPNGDKKYMDSQGKLPI-W-SKNSHYRHSH--VR----TQPIDWSWMDVTCNKAWTALEWCNNTFQQWKAKCAE-Y-G-IVEGGYGVNY-F-CGMDRVDFNSIPHANNVCPYGECAWEDVCEDMCCAEIPNIFDCQSPLGASVFIECWPPATTMWEGALMEMATGFKHYHWVGMPLAKAETYN-EYDPMKVWDSNMMGRECEAHELTEFGFSPFYFRNDLLYIHTNPP-DKPCDKPTDQGL-QAHFIDKLDCPMRI-H---GRVI-EMVKFMGCQQMLRTDQGDYSHCNLRGNL--L----E--H-TPRTE--SWPWN----M-IPKK-MSCECRTSEVRCHFMCILDYPCLAVRSGN--V-DQLMW-AF-PMG-KMAPNKM--TK-GFLCI-YGL---FNMNTADTIQEWPNMHQ----WILCTLSYMWTSLSY-VVN-KSAWRD---GDETEDSDWWYNIDVENSRLTHPQGVRTQRAPHWVSTMGCDLTCSQLVMNFFQWQIADPEYGMTWPEAYAWFGTHVIKPCRPEEKVKFLP--Q---WE--S-H-DPMSNQKISALYIEAHGDNKCSHWKQREDFFNAGVRLEWTHCDVLPEIQSCHSGEIQAKSFIMWHHYWACHQTQKVDMWIKMDSERDWSASTKFT--H--FENAYTIKMFAGDVQADNINDTLSWGNDHWFCIKICWYEESS-------R-IRVQLIQFLIREDCWRCFPWCNYELADVYAFY----W--VRMKDTSAWNKSH------TGMEVNMQMYGAGMEAYPGWASRNHEPPMWNGNFGMHRTCLDCFQYGEMMWYNHCNMFANKLCNMNHIALLGGDMSSDARIDKMRIQHVMAYRIKNRQLWKAS---H----QVQRFLKAFTWNDGQECLRY----NYSEWLNWCDDNMTEKNHMQDWLMYVSHFTS-------K-PWWFGRDALRIAG-MGFWHHWGHEKHNTPVVAKTLRADQPTVAH--P---KPD-W-DEHKKITRV-QI-GL--KSWMQLWY-FEI-YIVDECSPNDAQN-SA-EK-S-----G-FPY-FVRHA----NSKVW------AH-----HH--VDDCRIVLLMWMNMHWSGRNMSQ-V------DMF--HCGFWGVKM-------GCP-Q-----CCQELQ----CP----Q--WKLFIMVLTHHYQA-DY-IIV---VVFPLFRKHRYDCLAIEGTRN-----Y---HCTHMEF\n",
      "EI-T-M-AYRIVDEKDY------HNTCGNGPSQSEMHNEEVALMI-IQYK-IKESTH----VPG--------WMFPCDKWPPIQYYHMADRSSLF-I-ACPMWININPWGKTAWCHEKDH-IQP--------PAHYHEGWPDAKT--IM---V-EH--FSQPLTKCAESFPDCNCLQQDLRLGFPEAGVIKMHLFGAVLQDMFDGMRDYTASHPTP----K-----VPFRYNFPIWWITNYPFNCFYHCDMPDAFGLYPTKKYEKTMFKSDVDSPFNRSGIHCTVTYWFLNWLFKADS---VSRPVMNEWS--WC--F-----QMFHILFN-P----TDANEWTMVFIEPMTKPLMSGDKWH----------SAFLYKKTMWASAYCTRPYQYKTLAKDLMK--PILYNSVIQNH-------IIFPAREI--W--N--------NVIFMNIH--------ILW-A-TSRDPHYSINLHPDIRIFSFIKIWPSLPWN-----SKMWNWDVYSHCYHVTCEFSHRQPVCGYKPADDYMLNCDHFVTQQWQ--QTDEPCHTPKQTFAAGAIWPKLWISMWFN---T----V-----S-DD----D-S---TQVCGYDDDMKCRGWINTQSGFVIDNFKRKRLRPHMYLRLHNAQDDAIYDSR-DINTAHDPHKGYTKT-VRMEE--M-------CRKTAKLMRRVQCEETWPQCHWTNFKITW-------SFDKYHVGKTICWLEEVIVQKPWSESW-L-QFF-CFMIIWCMTIRAELEVYPDKEDSRIDYVDIHMLDGYMLTGYEWLGMKDNWIQPSKRAHQRRAIN-FFFTDQS---N-YKDWTFQWHMIPEKPEIGQHGIIFKGCLYRPDNVAKATLNCGMSSVEDGSPTKRRPGLYYELQFYGETPFMCNCRGHKHVFHWL--W-S-YDLMCHNECWYFHMHERFKLAGSQNPYTTLRLLSDTKPFNATHLCYDESNNFGYAAHGRVNVRRWDVKSSFFEARRVGQANLNLDDNHPHRMYFTVYRKYICFKRPLIRVSLVFCWEYVMILGSFFSK--NFEMSENVSRGCEEKYGKPSTHLDSDAENHVGMFEWAWDIPFFTVFIAGYGEYDPIAWPAHASRPMCGH-VHTVGMAN-F--ENISAHPEVWGYSFLVKAWNNACMMTTPTKTRPTALFCMMGLHVIAKHNHDWHAY---NMFTEEKD-RNDHHSMKTLHTRMQSWQPFTTEEYRLRNFMVLDDLYNTASSVFAYCMEDLMLKAITRGAS-DYLSWLKWWWC--F-HIVPWYQQVGWHCSTAHMVTC-QCAKI-Q-WVS-H------HHTPTHGSMCHEAAMY---WMNGVSHYAWPMWIGLQQIKQFCTPLMEQHPEQRDQTIKQWWHRYGIWV-MMLLDKGSNPARMDTKVE-ISQVSISV-AWYYDSIEHPAVHNHGPIITRVLEQPSWWCQQLVQVHHMSPQEEIGFGKRMMLHWEDSMLWPYKMRCNAATIFEDNLTHCWGTEDHERRNGAEC---M----SN--KQNR--FMAWIQSGIILHEGDNWNAQYDTNWTI--------PGSWHDTAH---EQS---VWQDFTEAEYDCKWMAMWIVQVYHMTRRASHNRDVVDIPDYDPHEMCSKIVVVFTNYNWMTALISELPMMRQWMGWWRPARGVSIGKHCDIIHMMCRFQIRFQKL-V--TFDVWYNRYHHWKMIMPCDDWPMQFAPAVCKLILKDNFAETHKPKEREQFAPFYSWAFITNPYIVPYFTRP--LAATRAQSPHTLY-HSEYLSRPDLDNYELDFK-K-MGEEDDEHFRHKQYCHVCKFSYS-CIELTGPWCQHNMHMYLFMAQLTNLFHNICYTYGCQDH-IEP---PFWIC---------YNGDSTNQKVYECCCWHYYPQVNMF-MDCHAVLYCEILLNFVS--------GLASA--------MASMCAMDTRSD-E-SDTFVDIMWNHIRRVPHSTYW-LSE-Y-LFQPQEIGHLACHKGKNIIHDPGKKNAAGHRED------N-TMPLTCGNYCYIIYPSIWNPVSAGLTLGTGKVRGKFSRQRCLNLILPKFGRTSHWTM--N----EIQWMHCNDFTTMG-CAGKRLCMDHMRQMVYMMPLYCPWMCRKLLEYFIGVTFTYHPNEMGHMRLLNPEWCYPSPQAWEPGVMHLCSCWQQ-D-RNDSQTGQDWGQFWCCMMTKDEAYGNATNEGVHKPEFRYGCMKQRYSHINMISAWDNLSQCYFYVLVHHMLLDKQHWQQCTRHRAGGTFMTPMQWAKPGWIYASMT-HSLYRQMANSPAENTVCILSQTPHIPQQTVSAGMW-NFFRTLIISHMQESCNSALWAWCKKPLSDNHEWCPYAFQPTDHLFDAEQVEGYLPSKPHRMTRVVRCCAGNMCGCWWPVASKNATDPHCRYTDG--QRWVGF-DGFESYNKIVPM--E----YVGLQMIMFIVMLDAIHPTGAFLLLRMWESQCNDVMSHET--TEGRWA-RAGRKITCDAQCMSPRFQAPMMGRSY--QNYVPTNIPVEQPSFTYDMNHRKWWRYAYSMIHVSRGDRRYNHPKEASDTAQFLQHKYAVIRRPVNPWLECCPVNGDIWPGEMFALSFEVFVYTMECAEPQEAIVTNCREGNFHMCYSCAS-KVQEKPLNQ--DM-MMENHYASELPTGENL---CCVHMALTFGCYHRHYEYIFHSFTGHQRVLTMNTCSKHGIKFNKKDPRYCPSGSIPVNGDVEGQQPITYWENMDDPHTRTEAFCDNRDGSHPVHHYSCNVVWRSNGFVES-SDMIQWAQC-HAYRVAYSGEWCCDTMRRHHWAMNKGFMDKF--VSNVN-NEY--IKCCP-AIWPGYMPHKDVLIT------YPCWACALRVLDGCAKTLFCACRMEAN--------T-YM--QEIPYGCPCGTNENRAYQAENVFIFEDRGCERWYPQIQ--F--DNM-------G----WVWKVNVKGCVPW--AFNPTFFTFYPHAGVWWCCIREVQKDTHMKQQNPWNSKDFGPCIWKLVNKCVCQWFIKHPDSSDTHVFCHSIRWWQNGPLHKMRTIIMSMMTNEYFEEYTCIMCPDANRINYVNQTEYANQWMLSSIIIWLRFQNLGLN-EAGLASIHNASGKKWIHMNQ-------KIMGDPRRM-Q-G-YE--HFVRFMAGNSGAMMPA---------------------HCMSECNPKWTVLVAWGYHSKAGAVYIGDALLPQGMRDWIMALYNWKWHVACMVT--------RESSNRVSATAVWMW-----GAYCQENRPIGAPLLDMGCFTTILYQVESYFESGRCRI---L--V-Y-AIRDFRH-FGYYLVRRQVCTMAIA-PYCDRGMTVFLAKDWDRHM---CHGQNPGFVHRSVD-KKKNYNHNPAE----NEARDREPPNKWPWAPTIHMVRFCEC-PI---H--RDVSLFLTFWQENFNWS--YR--P-P--DWQYHTNFEQDTNCLRNNFEAYG---D-EKYMDKQVRLSK-KLPCGWFLPYWHYRHSHVQVQWETHTKPIDWSWMDVTCNKAWTALERCNNTFQQ--SMYGDIYCGALYEGGYGMGYFFGCGMDIVDEDHFFEWKWI-PYGECAWEDACEDMCCAGIPNIMDCQSPLGASVFIECWIPATTMWEGALMEMADGFKHYKWV-Q-I-HF-NYSMGYN-MKVWDKNMMGRECDASELTEDGFRPFYFRNALLHIQTNPPWNKMCMQMVYQRVWQAHFIDKLGCPMRIMFLWGGRSKGRVIEFMACQQMVRTDQGDYSHCNLRGNVAKMSPYREFWDGDPRTELWGWPWNKHDESDIPKKRFSCECRT--VRCHFMCDLDYPFFIMQRFNCAVRDQQMCEGHQACGMEIAINKMAYNKHEFMIFTKGFDEWFELIKMNTAYEGPNFDQAKPSAMLCTFSYWWTSRSYSFQDCYSHGIDHQFRDDTEPSDWWYNIEVENSRL----GVRTQKAPSWVSTMGWDLTASQLVMNFFPWQIADPEKGMTWPEAYAWFGTHMIKPCRPEEKVKGLPMIQVSRWQIGSKHFENTSYRNRMALYIE-----KCSHWKQREDFFNAGVRLEWTHCDVLPEIQSCYSGEIQAISFIHQTQKVDGQQLNETKLWIKMDVERDWSASTNNTHFHCGFNNAYTVKMF-----A---ND-M-W----WFCIPICWYEESSYCPCNTCQYIRVQLIQFLIREDCWRC--W--YELADVYAFYNGCVHIIVRMKDTSAGNKSHQLTVLCTGMEVNMQMTGSA-RFNKG-QHMNHEWPMW-------RTCLSCFRHGEMMWY----MMGDMSSDAHHDKMM--IQHVEAYWPPAN-QN-M--RIKNRDLWKASLARNIDSLQVQRFLKDFTWCDGMEILEYAQVENYSEWLNWCDD-----N---DWLMYVSHFTSDMRGAIEKYPWWLGRDMWRETWMMGFAHHWGHEKESNDEDFNTWAHPKPD-EHKGPCCCNEQWWCDCGSTVVQICFMWNMNHKSWVSIWIGEELWYFVYR-SVH-AQTIYIFDECSIMMWWWLYRYMFVTHAWFVFKSKVWFVMMQKTHTEIQLYNLTVDTCRIV-LMWMNMHWSGRNMSQMVHQCSGHDMFSGH-GFWGVKMEYGEEFTGCPTQTECLSCCQELRPFCTCPSYSCEIVWFLFIMVLTHFYRGQSYGMYCDKGCMTHLFRKARDDCAAIEGTRNDRLAMITERHCTHMEF\n"
     ]
    }
   ],
   "source": [
    "def main():\n",
    "    v, w = open(\"data/rosalind_ba5e.txt\").read().splitlines()\n",
    "    blosum = read_blosum62(\"data/BLOSUM62.txt\")\n",
    "    score, align_v, align_w = global_alignment(v, w, blosum, sigma=5)\n",
    "    print(score)\n",
    "    print(align_v)\n",
    "    print(align_w)\n",
    "\n",
    "\n",
    "if __name__ == \"__main__\":\n",
    "    main()"
   ]
  },
  {
   "cell_type": "markdown",
   "id": "613279a4",
   "metadata": {},
   "source": [
    "### Find a Highest-Scoring Local Alignment of Two Strings"
   ]
  },
  {
   "cell_type": "markdown",
   "id": "cca109d7",
   "metadata": {},
   "source": [
    "https://rosalind.info/problems/ba5f"
   ]
  },
  {
   "cell_type": "code",
   "execution_count": 19,
   "id": "646e2e22",
   "metadata": {},
   "outputs": [
    {
     "name": "stdout",
     "output_type": "stream",
     "text": [
      "3510\n",
      "LWMGNSFYDTITH--WHPWPFACWTLCVAETT-QKTRRSP-HLKRIFSVVFKYHLE-CD-EEQDGDRQQIGRIHRLR-DVR-WPSDKIHPTMLTAWLIYQRLSAWVNARRIIEVATRDGWKLG-NATFKL-RN-KWIICQGHLETQAPSAVMWTPWLNSPWQRYAARSCSGCWHTEYEHKQDHPQQNQQFVMID-PE--AGEC--AMSA-LECPFIC-WK-NLYLPLHAFDCYVTDEDDNDELEQW-KVK-CNQPSGIVYTNKQRHAGM-TM-YAPGCDKPSRQQNND-MG-HT---HASAI-PGE-IRFAPN-FGSSIALNPCKPEFGAYLTGCYHSSAICSMRPF-GIGSDRENPPSDPHWG---VCNDQHILGWLWLGKYVF-ANLSHNPTAHPHQLPPFGVGVPK-IQITHGGTMEDSHQYDYMFNQRWVVD-QLRYIFIMLFQHYNKCCWRLWMSGAWSNNPALRMNMIWT--PLSGGSADEKREKQRAGIVAYWL-DGMFMFFNFPNQCTQSHRYDKWGPHYNSWE-GIACKHDHF-AGEVTSSTGNQPPNWSWGNLDFVWGD-MYFVMLDMCEGGEIMVCSQHFIEEWNVSFHTCLPKDQHGFLVNQEYTPLPKEEQHLYLAKLQPGCFQRIQSIDTLQFNWLWWGMW-LCVFQWLK--F--N-HRTTNKHKRMAAPVKHKDPRKMKIKNGSFKFPLMEHVMCLSTFDYIEFSWANPEYASSL-C-TKCYNTITIETIKEFAAS-C--VN-NE-QQNNLGTSKCAHLPNNTC--ST-YSHRLHM-TAGISYKRLRHVTE-VYIHLCTVS-CHQWIKPMQWFWGPCAEISGLFPINTMDWFNANCTFVTWVPRYSADDADPDMKIRTNCFHGWDTDNWSPQRKEFQRDYVRGYTSANCYIMPKNIPDVCNNMRSERTDHIPHDRENLNQWVKFYNLPMAFTARLPSKYHG-KFKEMVAHGQHQAM-----L--MQHFMA--N-------FDHWWRERQFNVLKWITGATIHCVQLAMWHMPRPQHTG-MRFFHDLNVAAMAEIGAQQHWRNDWCQGQQTFYVQWAWDLCHVKNDNCQFNFLVYDVSKEVPDPKHFFHWDVPQTMTH--CNPSVFVYGKDRPKWQWIAWWIYAQRTAYT-----GGKNNMDHDHIFKEQSGPTNF--CSF--YDL-RRKVIRTIVVVGHVPIMF-CHNARGISMEYRNQTVKWVNCAYLADDKEKQH--PILA--WCIVCFPVIEITYSLYKATCIAQMATTMTHSMGNTMMV-YNKGMLGGNGDYDSQYMYVNEMRLWNCSRIFRPIWHGWYMFEYITR-ATDQYPTQ-KP-LLWLQICGSYGCQMYDEFMCDLPCWVGWSKSRCGAYSKWYPPQQGPSGEYVN-PRRWAQVVQW-IE-L-MITRNRCITQFPVAVNDWQKQCINNMNVDMACRMIWNKKF-AQWQHNV-FG-NT-EEGK--LYEWGGGEYPCMVIQPRFINDTCAHSMDP---YSGWNVQAPDITVQTC---TLAQ-QDWGIKFQWYMHQREYFLMAIMMCWTDCHKMQRNRWTIIMGKFDYDLWYATMPPENLWMFQKC-FGINNRTGVYGGSPPAPLNVFPTYHYRFFYIVCEIYELCV-QGCYSFQKQVITMV---DC--Q-VVR-MNRDWRFWSNN-G---I--P-HTSEDYNHRNNYCPAHWFDTISDYADTSDGQLYDAPDQQHSCKF------WDMVYANGDELCQTP-EI--MT--V--EFYSTQRHSNGCVLR--GEVR--K----RGGMSW----R-FGH--SHRM-GM-MNF-SNMIR--HTFWFNWIAAWDDRKSKTDPYFRTPYKIHW--DFHL-Q-C-K-SDAPNLKMHTHNGKGLMFF--D--TR-N---H-N-MSEFEMWMPETIDQDLLTNDKPYKDMANEALRQEFYGRDWQTSMIPSSGDSDDHESIPKFHYCDDDFRCGDRGSCLVRDMW-K-CYYG------L-MSQF----I--GKWQGAQKIILRMVKQGQVFICDWIM-DAKRYPHCIE-WVKYMTFWQDF--CPHGIEYHNDHRRRKMVEWCASFQGEAGINYPLFVYQWNSAFHCMMGQNVANMVRKEEHWCFFDKNRDIRMQMN-E-LISHRFNKGAKDRFAENDAMPTVRNNCYTPQRAMVIQCPEYC-PV-W-MFEQEITGAWASQCWDELATWDSMYQHRVRVENHCTQLFVCAPLRIWLCCKLTMSPQDIPHHK-FF----EIPLLEPLEQGH-KFKWVMMLP-NYRWCDLVY-EW--V-EMSA-TIK-GR-CTICSNCKWI-QRICQWWWDEFKHM-TNEF-DNGSQM-KCG-PWEQIDEDWIFTYSADSW----QDMGF-RLLGVFMVK-AFCYIYVEC-DRINECNETKNAV-NADITRNS-M-Y-LEDREQMPTHHFSD-LP--L-HCSSSE-INKY-LDDWVKFQTS-NTPTFASLHRRDEL--KQFL-DLF---RDHCMAH--WSQDVAG-FCANNGRNHNVQKKVPLRYKLFYG-HHTDGHYVWFW-EVMDS-VNGTDDSKR-EVALISQ-W-D-A-DV-NRHAY--WWE-VW-W-S-D-MWDPRKLYGRKVAEIGCHIKMTTKVYLMNLPQWSGWDHLCQSLQS-WETHAFKV--QFMWTQRVPMYKINIESLMHPKWIQFCGMVEQKQNQYTNEFWEACEHHCPRNWR-RPAFTTGAAASSQKVRHCCNDIHPQNFNWDRDEFKGIRYQIIYDRDIGCRDTGSLVKRGG-LRKKMMLTHYTPPTIHKTLEIAWNDNKSTYYAETQ-WKNQRDL-WE-SYDGYDIQECQNWIDCLSPTMDMGGHYIWSVPISTVYNMIMSKFRQKHDKAIAR-VKIRNQISF-K-NQYKCIRCYTQLW----MRESCHR-CCI--AI--YVGMQIMPKLLDC-PGTKKCQDYY--IEPVD----AY-FKM-V-CV-F-WCRVHCQQHHMCY-QNMTWR\n",
      "LLFGQ-WYATCSQRLW-IRPLS-QQPCEPHIALDRNHVSSCHMGQA-EGCLAYRETCCQIVKMDGGTMHVNSDSYLKVIIKLWSAFKF-PQVVPQ----DR-AN-TQE-QCTPF-YHTMWKYHMNAPCSVNKHFRWFW-QS-LDT-IKFEEEFAA--KKS-HK-ND-DIAGCWQPQCSRYQYCAEKDEAYQGAECRGVWDATYRWSYPTYFQFPIMCHWKCNICNHFH-FDNYGGCAMSIGQ-EPWVKLQFTYNHCDYPCLPGQR-GLMDGMQYIPGKERKYMQIGGEILECFALMYQNANYWHKHVVKVVPAWY-PKMG-QNVRGEICG-ISGDYDAQAIPFAREFWWWAKYQEPSNCVTNWDLNWICLEPCVFLWLW-DPVCFRCDIGYGNQMDVDAETPFYKSFCNCINV-QMRLLNMNRDFGTGWTDRPGPDCGMN-RLTQLHQNSNPHSVHF-IVPQ-VGQVS-KL-L-WCFFTLYNEHA-PKFFDDAEPLIMLWVRDHKVVFILF-DHASDFILANLMSILYLIDTCEFMSRENQTQQGQEICNQAVFRQIYSKSKIIVIWMYCMCF-LWQVGASEETWMC-Q-FY-CW-IMLTGPSTWHQPNPRVGINYALFKIESMDVDLSHLQTD-IDD-AWAGGL-CAKN-WPVYVICDLKKMQPAFVIYCPRLEHEHA-MHMAI-GK--RIIMVHQKP-AYP--AFLGCYLTCPYTNI-WEDERHLFELTCHDK-MRTTASEGHDEMDKNWCTRTTCPEFQNRSHEINK-LPITDEGCDMCECYTTNDNLWCVKMWW-WSWCMDNCIFGNWAARDYCGD-I-PMK---GELSIISGLFPINTQDWFNVNCTF---V--YSADADSLDMKIRGNCFL-RGHAHFMPQRK-Y---IVEGHASANCYIMGKNIPDVCNNARSERTDHIPHDRENLNQWV----LPMSFTARLPGK-HGIEHKEMMAHGQHQAMLWTICLWIMQHFMPDHNFTGSRTWFQHWWRERQFNV---ITCATI--AAW-MWRKEHTNPKDTMD--QHCKVAAMAEIGAQAHWRNDWCQGQQTFYVQWAWDL-R-EFDNCQFN-LVYGVSNEVPDPKHFFHWDV-QTTTQKPCNPSVFEYG---PKWQWIAWWIGAQRTAYTQEKCPNGKNNMDHIQILLMHPVNFSFYRC-FGGWEISRRKVIRT-SVV-D-AVDYDCANAGGISMEYRNQ-VKWV-----ADDKEKQHSQPTTTQKWCIVCFP---V-YSLMKATCIAQMATTMTHSMGNTFKIHFE--ILGGNGDYDSQ---VNEMRLWNCSRIFRPIWHAWYMFEYITQYPTQKRHCDWTHFLLWLQIC---G------FMCDLPLWVGWSKS-CGAYSSWYPPYQ-LS-YYHDTPSRSHSPRRWASQCLSVVGENR---QFPVAVGDWQKQCINNMNVDMACRDIWNKKFYSMIQHNVYYTFPALLRGNYWLYEWHGHEYPCM-V--RFINDTCAHYMDQLFVYSGWNVQAPDITQQTCQDWGLVHFANWDWKYTWYMHQREYFLMAIMMCWYACNRM-----TIIMGEFDYDLWYWTMPP-CFPINNRTKLPMAMCFDVYVAMRAWVVTSTETYHYRFFYI--NMNTWCDWTG-HRSHVEIYELTCYSNCGAQKAHHIMNEDDRFWSNNYNHCLIWRTDRNNSEYTSEHQ-CPAHWFDTISDYADTNEGQDYD--DQQHSCKFVVCNVDFDMVYANGDELCETPCSMTPFTKFPQYEFYSTQRHS--CVLRWQPEVRWLQWEAGRGGMSWVTMGMCYGNVIAPMMIGTYIEIESNMIRFVPQTWFNWLAAWDDCKPAGRP--KIMLLLVWEPDFHLCKMCAKFDDAPNLKMHTHNGKGLMFFYNQSWTRNHEKQHSDYMSPFEMWM--TIDQLLLTNDKPYKDMAN--VHDE--T-V-Q--VIMSSGDSDDGESIPKFHYCDDD--CGDRGSCLCRDMWTTLCYYGYQPEEHMSLGDFITQNIEGGVWQGAQKIILRMVKDPH--M--WRACRSTRLCYCHEKWPSLRQADDQFLLC-FTI-MQNSY-VP-LVA--SVIK-E-EV--SLMP-QNREVFF-KMAL-IP--VNIQLCWTHVSQD-SMWSGFSAEKLV-D-YQDEGTIRHLDPMKMP-Y-AFC-ALHDSELQQAMEYSGASKWEPISESTCQENSNNG-DRV-SWPS-F--MVW-ESGCC-LF-CKDIDIW-SVGIVRDP-YFSKHNGFICEKDESTVTQDMECSHWDPDYILITSKSNQRKHMECRQRNDIQELNKYTDKEERNGNVEYGFRWSCNAIVD-LNDRYIISCIDTYVGHADRMLEFNKPRKSLEWMWEGDFIVGPWIPCEHDCGVGSIQSMFNGKINYGVVHHSAKDQPKMFADTMQVLDNGKNNWNAEEDYRMEYEYSMHLMMFIDSWRWWQKQGDHSEWRHAFNL-KLVENHVSESTSMY-FLEDRTSLIVTPTMWNVYMPVPEVCIEHDETCHDVYGNF-TGNGTQFSHENVLTATFQAEEGANRKTCNIIVVPGQCMVCQVIIVDDARDYDQAMASSLWFVLVKDTYTNNCYTMKNNKVWMNGNCQAVWQP--YYTEKEDE-E-Q-E-ETRGDAKKV-EWF-YTQMGNHDHGLWSPMPVEMTGKF-WIQSVP-F-FYVSCRMGQYW-E---VATAPAS--TTK-W-L-DHA-SISWMGDDNFDVEYYHVDNMVDVTLNRVDIE-F-WVRSS-NWVKLQ-V-AHHM-C-N--CIVEPDEVIRRPVMGTDDVNPGTLVILAFARK-KK-TFQNDPRPWTIGPFICWRCDLELYGLP-CMS-GDIMPRKFDLLPS-RRN-TIGSAIEDGNRAFLNICDGFFVQFASLFEAVSYLDWPAQKSLQRTVQ-WGAHNRRDHCNRWYIIDMGMNHYGDMDDVVR-LDAQNETELCISHCRPAEPLSWMMRDYQYEPGVPCVYYRWTGHDCHHMHI-YVPSFEWR\n"
     ]
    }
   ],
   "source": [
    "from collections import defaultdict\n",
    "\n",
    "def read_pam250(filename=\"data/PAM250.txt\"):\n",
    "    \"\"\"读取 PAM250 矩阵\"\"\"\n",
    "    with open(filename) as f:\n",
    "        lines = [line.strip() for line in f if line.strip()]\n",
    "    symbols = lines[0].split()\n",
    "    pam = {}\n",
    "    for line in lines[1:]:\n",
    "        parts = line.split()\n",
    "        aa = parts[0]\n",
    "        scores = list(map(int, parts[1:]))\n",
    "        for sym, sc in zip(symbols, scores):\n",
    "            pam[(aa, sym)] = sc\n",
    "    return pam\n",
    "\n",
    "def read_sequences(filename=\"data/rosalind_ba5f.txt\"):\n",
    "    \"\"\"读取 Rosalind 输入文件\"\"\"\n",
    "    with open(filename) as f:\n",
    "        lines = [line.strip() for line in f if line.strip()]\n",
    "    return lines[0], lines[1]\n",
    "\n",
    "def local_alignment(v, w, pam, sigma=5):\n",
    "    n, m = len(v), len(w)\n",
    "    s = [[0]*(m+1) for _ in range(n+1)]\n",
    "    backtrack = [[0]*(m+1) for _ in range(n+1)]\n",
    "    max_score, max_pos = 0, (0, 0)\n",
    "\n",
    "    for i in range(1, n+1):\n",
    "        for j in range(1, m+1):\n",
    "            match = s[i-1][j-1] + pam[(v[i-1], w[j-1])]\n",
    "            delete = s[i-1][j] - sigma\n",
    "            insert = s[i][j-1] - sigma\n",
    "            s[i][j] = max(0, match, delete, insert)\n",
    "\n",
    "            if s[i][j] == match:\n",
    "                backtrack[i][j] = '↖'\n",
    "            elif s[i][j] == delete:\n",
    "                backtrack[i][j] = '↑'\n",
    "            elif s[i][j] == insert:\n",
    "                backtrack[i][j] = '←'\n",
    "            else:\n",
    "                backtrack[i][j] = '0'\n",
    "\n",
    "            if s[i][j] > max_score:\n",
    "                max_score = s[i][j]\n",
    "                max_pos = (i, j)\n",
    "\n",
    "    # 回溯得到局部比对\n",
    "    i, j = max_pos\n",
    "    v_aln, w_aln = \"\", \"\"\n",
    "    while i > 0 and j > 0 and s[i][j] != 0:\n",
    "        if backtrack[i][j] == '↖':\n",
    "            v_aln = v[i-1] + v_aln\n",
    "            w_aln = w[j-1] + w_aln\n",
    "            i, j = i-1, j-1\n",
    "        elif backtrack[i][j] == '↑':\n",
    "            v_aln = v[i-1] + v_aln\n",
    "            w_aln = '-' + w_aln\n",
    "            i -= 1\n",
    "        elif backtrack[i][j] == '←':\n",
    "            v_aln = '-' + v_aln\n",
    "            w_aln = w[j-1] + w_aln\n",
    "            j -= 1\n",
    "        else:\n",
    "            break\n",
    "\n",
    "    return max_score, v_aln, w_aln\n",
    "\n",
    "def main():\n",
    "    v, w = read_sequences(\"data/rosalind_ba5f.txt\")\n",
    "    pam = read_pam250(\"data/PAM250.txt\")\n",
    "    score, v_aln, w_aln = local_alignment(v, w, pam, sigma=5)\n",
    "    print(score)\n",
    "    print(v_aln)\n",
    "    print(w_aln)\n",
    "\n",
    "if __name__ == \"__main__\":\n",
    "    main()\n"
   ]
  }
 ],
 "metadata": {
  "kernelspec": {
   "display_name": "AXIS",
   "language": "python",
   "name": "axis"
  },
  "language_info": {
   "codemirror_mode": {
    "name": "ipython",
    "version": 3
   },
   "file_extension": ".py",
   "mimetype": "text/x-python",
   "name": "python",
   "nbconvert_exporter": "python",
   "pygments_lexer": "ipython3",
   "version": "3.10.0"
  }
 },
 "nbformat": 4,
 "nbformat_minor": 5
}
